{
 "cells": [
  {
   "cell_type": "code",
   "execution_count": 28,
   "metadata": {},
   "outputs": [],
   "source": [
    "# import the necessary packages\n",
    "import argparse\n",
    "import imutils\n",
    "import cv2\n",
    "import os\n",
    "import time"
   ]
  },
  {
   "cell_type": "code",
   "execution_count": 29,
   "metadata": {},
   "outputs": [],
   "source": [
    "# load the face detector\n",
    "detector = cv2.CascadeClassifier(\"cascades/haarcascade_frontalface_default.xml\")"
   ]
  },
  {
   "cell_type": "code",
   "execution_count": 30,
   "metadata": {},
   "outputs": [],
   "source": [
    "# if a video path was not supplied, grab the reference to the webcam\n",
    "if os.path.isfile(\"video.mp4\"):\n",
    "    camera = cv2.VideoCapture(\"video.mp4\")\n",
    "else:\n",
    "    cemera = camera = cv2.VideoCapture(0)"
   ]
  },
  {
   "cell_type": "code",
   "execution_count": 31,
   "metadata": {},
   "outputs": [],
   "source": [
    "i = 1\n",
    "time_end = time.time() + 10 * 2\n",
    "# keep looping\n",
    "while time.time() < time_end:\n",
    "\t# grab the current frame\n",
    "\t(grabbed, frame) = camera.read()\n",
    "\n",
    "\t# if we are viewing a video and we did not grab a frame, then we have\n",
    "\t# reached the end of the video\n",
    "\tif not grabbed:\n",
    "\t\tbreak\n",
    "\n",
    "\t# resize the frame, convert it to grayscale, and detect faces in the\n",
    "\t# frame\n",
    "\tframe = imutils.resize(frame, width=400)\n",
    "\tgray = cv2.cvtColor(frame, cv2.COLOR_BGR2GRAY)\n",
    "\tfaceRects = detector.detectMultiScale(gray, scaleFactor=1.3, minNeighbors=5,\n",
    "\t\tminSize=(30, 30), flags=cv2.CASCADE_SCALE_IMAGE)\n",
    "\n",
    "\t# loop over the faces and draw a rectangle around each\n",
    "\tfor (x, y, w, h) in faceRects:\n",
    "\t\tcv2.rectangle(frame, (x, y), (x + w, y + h), (0, 255, 0), 2)\n",
    "\n",
    "\t# show the frame to our screen\n",
    "\t#cv2.imwrite(str(i)+\"Frame.jpg\", frame)#save image\n",
    "    cv2.imshow(\"Frame\", frame)\n",
    "\ti=i+1\n",
    "\n",
    "# cleanup the camera and close any open windows\n",
    "camera.release()"
   ]
  },
  {
   "cell_type": "code",
   "execution_count": 27,
   "metadata": {},
   "outputs": [],
   "source": []
  },
  {
   "cell_type": "code",
   "execution_count": null,
   "metadata": {},
   "outputs": [],
   "source": []
  }
 ],
 "metadata": {
  "kernelspec": {
   "display_name": "Python 3",
   "language": "python",
   "name": "python3"
  },
  "language_info": {
   "codemirror_mode": {
    "name": "ipython",
    "version": 3
   },
   "file_extension": ".py",
   "mimetype": "text/x-python",
   "name": "python",
   "nbconvert_exporter": "python",
   "pygments_lexer": "ipython3",
   "version": "3.6.5"
  }
 },
 "nbformat": 4,
 "nbformat_minor": 2
}
