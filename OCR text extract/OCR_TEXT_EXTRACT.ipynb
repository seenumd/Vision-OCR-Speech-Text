{
 "cells": [
  {
   "cell_type": "code",
   "execution_count": 1,
   "metadata": {},
   "outputs": [],
   "source": [
    "import cv2\n",
    "from PIL import Image\n",
    "import pytesseract\n",
    "import numpy as np\n",
    "from pytesseract import image_to_string\n",
    "import re\n"
   ]
  },
  {
   "cell_type": "code",
   "execution_count": 2,
   "metadata": {},
   "outputs": [],
   "source": [
    "# Path of working folder on Disk\n",
    "img_path = \"C:/Users/s.mudalapuram/Documents/PythonMe/NLP/\"\n",
    "pytesseract.pytesseract.tesseract_cmd = r\"C:\\Users\\s.mudalapuram\\AppData\\Local\\Tesseract-OCR\\tesseract.exe\""
   ]
  },
  {
   "cell_type": "code",
   "execution_count": 3,
   "metadata": {},
   "outputs": [],
   "source": [
    "def get_string(img_path):\n",
    "    #Read image with opencv\n",
    "    img = cv2.imread(img_path)\n",
    "    \n",
    "    #convert to Gray\n",
    "    img = cv2.cvtColor(img,cv2.COLOR_BGR2GRAY)\n",
    "    #img = cv2.blur(img,(3,3))\n",
    "    \n",
    "\n",
    "    \n",
    "    ## Apply dilation and erosion to remove some noise\n",
    "    kernel = np.ones((1,1), np.uint8)\n",
    "    #img = cv2.dilate(img, kernel, iterations=1)\n",
    "    img = cv2.erode(img, kernel, iterations=1)\n",
    "    \n",
    "    #blurred = cv2.blur(image, (3,3))\n",
    "    # Write image after removed noise\n",
    "    #cv2.imwrite(img_path + \"removed_noise.png\", img)\n",
    "    \n",
    "    #  Apply threshold to get image with only black and white\n",
    "   # img = cv2.adaptiveThreshold(img, 255, cv2.ADAPTIVE_THRESH_GAUSSIAN_C, cv2.THRESH_BINARY, 81, 3)\n",
    "   \n",
    "\n",
    "    # Write the image after apply opencv to do some ...\n",
    "    #cv2.imwrite(img_path + \"thres.png\", img)\n",
    "    \n",
    "    img = Image.fromarray(img)\n",
    "    result = pytesseract.image_to_string(img, lang='eng')\n",
    "\n",
    "    return result\n",
    "\n",
    "\n",
    "    "
   ]
  },
  {
   "cell_type": "code",
   "execution_count": 5,
   "metadata": {
    "scrolled": true
   },
   "outputs": [
    {
     "name": "stdout",
     "output_type": "stream",
     "text": [
      "alp-cos12: CPU jumps (3m 7d 9h)\n",
      "\n",
      "30K\n",
      "\n",
      "25K\n",
      "\n",
      "20K\n",
      "\n",
      "ISK\n",
      "\n",
      "10k\n",
      "\n",
      " \n",
      "\n",
      "ion sence ae Ren suas en cean ome preemie aur em eres\n",
      "\n",
      " \n",
      "\n",
      "11-06 08.\n",
      "\n",
      "last min avg max\n",
      "[i Context switches per second [avg] 2.65Ksps 125Ksps 4.87Ksps 162.5 Ksps\n",
      "terrupts per second [avg] 227Kips 725ips 1.98Kips 30.67 Kips\n"
     ]
    }
   ],
   "source": [
    "text = get_string(img_path + \"test.jpg\")\n",
    "print(text)\n"
   ]
  },
  {
   "cell_type": "code",
   "execution_count": null,
   "metadata": {},
   "outputs": [],
   "source": []
  }
 ],
 "metadata": {
  "kernelspec": {
   "display_name": "Python 3",
   "language": "python",
   "name": "python3"
  },
  "language_info": {
   "codemirror_mode": {
    "name": "ipython",
    "version": 3
   },
   "file_extension": ".py",
   "mimetype": "text/x-python",
   "name": "python",
   "nbconvert_exporter": "python",
   "pygments_lexer": "ipython3",
   "version": "3.6.5"
  }
 },
 "nbformat": 4,
 "nbformat_minor": 2
}
