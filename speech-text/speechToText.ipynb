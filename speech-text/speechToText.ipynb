{
 "cells": [
  {
   "cell_type": "code",
   "execution_count": 1,
   "metadata": {},
   "outputs": [],
   "source": [
    "import speech_recognition as sr\n"
   ]
  },
  {
   "cell_type": "code",
   "execution_count": 2,
   "metadata": {},
   "outputs": [],
   "source": [
    "r = sr.Recognizer()                 # initialize recognizer"
   ]
  },
  {
   "cell_type": "code",
   "execution_count": 7,
   "metadata": {},
   "outputs": [
    {
     "name": "stdout",
     "output_type": "stream",
     "text": [
      "Speak Anything :\n",
      "Time Over. It ends.\n",
      "You said : can you come and have a chat when will be your meeting\n"
     ]
    }
   ],
   "source": [
    "with sr.Microphone() as source:     # mention source it will be either Microphone or audio files.\n",
    "    #energy threshold based on the surrounding noise level \n",
    "    r.adjust_for_ambient_noise(source) \n",
    "    print(\"Speak Anything :\")\n",
    "    audio = r.listen(source)        # listen to the source\n",
    "    print(\"Time Over. It ends.\")\n",
    "    try:\n",
    "        text = r.recognize_google(audio)    # use recognizer to convert our audio into text part.\n",
    "        print(\"You said : {}\".format(text))\n",
    "\n",
    "    except sr.UnknownValueError: \n",
    "        print(\"Google Speech Recognition could not understand audio\") \n",
    "      \n",
    "    except sr.RequestError as e: \n",
    "        print(\"Could not request results from Google Speech Recognition service; {0}\".format(e))  "
   ]
  },
  {
   "cell_type": "code",
   "execution_count": 8,
   "metadata": {},
   "outputs": [
    {
     "name": "stdout",
     "output_type": "stream",
     "text": [
      "End\n"
     ]
    }
   ],
   "source": [
    "print(\"End\")"
   ]
  },
  {
   "cell_type": "code",
   "execution_count": null,
   "metadata": {},
   "outputs": [],
   "source": []
  }
 ],
 "metadata": {
  "kernelspec": {
   "display_name": "Python 3",
   "language": "python",
   "name": "python3"
  },
  "language_info": {
   "codemirror_mode": {
    "name": "ipython",
    "version": 3
   },
   "file_extension": ".py",
   "mimetype": "text/x-python",
   "name": "python",
   "nbconvert_exporter": "python",
   "pygments_lexer": "ipython3",
   "version": "3.6.5"
  }
 },
 "nbformat": 4,
 "nbformat_minor": 2
}
